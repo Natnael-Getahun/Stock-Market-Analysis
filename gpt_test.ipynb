{
 "cells": [
  {
   "cell_type": "code",
   "execution_count": 2,
   "metadata": {},
   "outputs": [
    {
     "name": "stderr",
     "output_type": "stream",
     "text": [
      "[*********************100%***********************]  1 of 1 completed\n",
      "[*********************100%***********************]  1 of 1 completed\n",
      "[*********************100%***********************]  1 of 1 completed\n"
     ]
    }
   ],
   "source": [
    "import yfinance as yf\n",
    "import time\n",
    "\n",
    "ticker = \"ORCL\"\n",
    "\n",
    "short_range_data = yf.download(\n",
    "    tickers=ticker,\n",
    "    period = \"1mo\",\n",
    "    interval = \"2m\"\n",
    ")\n",
    "\n",
    "time.sleep(2)\n",
    "\n",
    "medium_range_data = yf.download(\n",
    "    tickers=ticker,\n",
    "    period= \"1y\",\n",
    "    interval = \"1h\"\n",
    ")\n",
    "time.sleep(2)\n",
    "long_range_data = yf.download(\n",
    "    tickers=ticker,\n",
    "    period=\"max\",\n",
    "    interval = \"1d\"\n",
    ")\n"
   ]
  },
  {
   "cell_type": "code",
   "execution_count": 6,
   "metadata": {},
   "outputs": [
    {
     "name": "stdout",
     "output_type": "stream",
     "text": [
      "(3803, 5) (1749, 5) (9775, 5)\n"
     ]
    }
   ],
   "source": [
    "print(short_range_data.shape, medium_range_data.shape, long_range_data.shape)"
   ]
  }
 ],
 "metadata": {
  "kernelspec": {
   "display_name": "testenv",
   "language": "python",
   "name": "python3"
  },
  "language_info": {
   "codemirror_mode": {
    "name": "ipython",
    "version": 3
   },
   "file_extension": ".py",
   "mimetype": "text/x-python",
   "name": "python",
   "nbconvert_exporter": "python",
   "pygments_lexer": "ipython3",
   "version": "3.12.3"
  }
 },
 "nbformat": 4,
 "nbformat_minor": 2
}
